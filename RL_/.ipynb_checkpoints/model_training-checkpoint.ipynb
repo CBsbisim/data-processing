{
 "cells": [
  {
   "cell_type": "code",
   "execution_count": 1,
   "id": "48e4264b-262b-4792-8931-d6cd1566947a",
   "metadata": {},
   "outputs": [],
   "source": [
    "import os\n",
    "import pandas as pd\n",
    "import numpy as np\n",
    "import akshare as ak\n",
    "from models.data_processing import DP\n",
    "from models.env_trading import FinanceTradingEnv\n",
    "from finrl.agents.stablebaselines3.models import DRLAgent\n",
    "from stable_baselines3.common.logger import configure\n",
    "from finrl.main import check_and_make_directories\n",
    "from finrl.config import INDICATORS, TRAINED_MODEL_DIR, RESULTS_DIR\n",
    "import matplotlib.pyplot as plt\n",
    "import random\n",
    "import warnings\n",
    "warnings.filterwarnings(\"ignore\")\n",
    "%matplotlib inline\n",
    "from matplotlib import font_manager\n",
    "# 设置字体为已安装的中文字体\n",
    "# 设置字体路径\n",
    "font_path = './models/msyh.ttc'  # 替换成你的字体路径\n",
    "font_prop = font_manager.FontProperties(fname=font_path)\n",
    "\n",
    "check_and_make_directories([TRAINED_MODEL_DIR])"
   ]
  },
  {
   "cell_type": "code",
   "execution_count": 2,
   "id": "f461c267-d3b6-45b0-a404-d28fbdfe1033",
   "metadata": {},
   "outputs": [],
   "source": [
    "# import models.data_preparing as dt_pre\n",
    "ak_list = pd.read_csv('./his_data/ak_stock_ticker_list.csv')['0'].to_list()\n",
    "ak_list = random.sample(ak_list, min(50, len(ak_list))) \n",
    "yf_list = pd.read_csv('./his_data/yf_stock_ticker_list.csv')['0'].to_list()\n",
    "yf_list = random.sample(yf_list, min(25, len(yf_list))) \n",
    "# bond_list = ak.bond_zh_hs_spot(start_page=\"1\", end_page=\"3\")[['代码', '名称']]\n",
    "# bond_list = list(set(bond_list['代码'].to_list()))\n",
    "# bond_list = random.sample(bond_list, min(50, len(bond_list))) \n",
    "# dt_pre.main(ak_list,yf_list,bond_list)"
   ]
  },
  {
   "cell_type": "code",
   "execution_count": 3,
   "id": "b69533b3-6f45-462d-9a22-601ff9f9da9c",
   "metadata": {},
   "outputs": [
    {
     "name": "stdout",
     "output_type": "stream",
     "text": [
      "Finance Dimension: 113, State Space: 1248\n"
     ]
    }
   ],
   "source": [
    "import models.data_analysis as dt_anal"
   ]
  },
  {
   "cell_type": "code",
   "execution_count": null,
   "id": "4623fb63-a390-4e9a-bbe0-6433eb6956a7",
   "metadata": {},
   "outputs": [
    {
     "name": "stderr",
     "output_type": "stream",
     "text": [
      "2024-12-23 09:54:04,371\tINFO worker.py:1810 -- Started a local Ray instance. View the dashboard at \u001b[1m\u001b[32m127.0.0.1:8265 \u001b[39m\u001b[22m\n",
      "2024-12-23 09:54:08,905\tINFO worker.py:1652 -- Calling ray.init() again after it has already been called.\n"
     ]
    },
    {
     "name": "stdout",
     "output_type": "stream",
     "text": [
      "Reinitializing Ray...\n",
      "Shutting down Ray to refresh memory...\n",
      "Model agent_a2c pretraining completed.\n"
     ]
    },
    {
     "name": "stderr",
     "output_type": "stream",
     "text": [
      "2024-12-23 09:54:16,874\tINFO worker.py:1810 -- Started a local Ray instance. View the dashboard at \u001b[1m\u001b[32m127.0.0.1:8265 \u001b[39m\u001b[22m\n",
      "2024-12-23 09:54:19,828\tINFO worker.py:1652 -- Calling ray.init() again after it has already been called.\n"
     ]
    },
    {
     "name": "stdout",
     "output_type": "stream",
     "text": [
      "Reinitializing Ray...\n",
      "Shutting down Ray to refresh memory...\n",
      "Model agent_ddpg pretraining completed.\n"
     ]
    },
    {
     "name": "stderr",
     "output_type": "stream",
     "text": [
      "2024-12-23 09:54:35,219\tINFO worker.py:1810 -- Started a local Ray instance. View the dashboard at \u001b[1m\u001b[32m127.0.0.1:8265 \u001b[39m\u001b[22m\n",
      "2024-12-23 09:54:39,673\tINFO worker.py:1652 -- Calling ray.init() again after it has already been called.\n"
     ]
    },
    {
     "name": "stdout",
     "output_type": "stream",
     "text": [
      "Reinitializing Ray...\n",
      "\u001b[36m(model_pretraining pid=14650)\u001b[0m Finance Dimension: 113, State Space: 1248\n",
      "\u001b[36m(model_pretraining pid=14650)\u001b[0m Pretraining model from agent_sac...\n",
      "\u001b[36m(model_pretraining pid=14650)\u001b[0m {'batch_size': 256, 'buffer_size': 1000000, 'learning_rate': 0.05, 'learning_starts': 100, 'ent_coef': 'auto_0.1'}\n",
      "\u001b[36m(model_pretraining pid=14650)\u001b[0m Using cpu device\n",
      "\u001b[36m(model_pretraining pid=14650)\u001b[0m Logging to results/sac\n",
      "Shutting down Ray to refresh memory...\n",
      "Model agent_sac pretraining completed.\n"
     ]
    },
    {
     "name": "stderr",
     "output_type": "stream",
     "text": [
      "2024-12-23 09:57:47,109\tINFO worker.py:1810 -- Started a local Ray instance. View the dashboard at \u001b[1m\u001b[32m127.0.0.1:8265 \u001b[39m\u001b[22m\n",
      "2024-12-23 09:57:50,925\tINFO worker.py:1652 -- Calling ray.init() again after it has already been called.\n"
     ]
    },
    {
     "name": "stdout",
     "output_type": "stream",
     "text": [
      "Reinitializing Ray...\n",
      "\u001b[36m(model_pretraining pid=16175)\u001b[0m Finance Dimension: 113, State Space: 1248\n",
      "\u001b[36m(model_pretraining pid=16175)\u001b[0m Pretraining model from agent_td3...\n",
      "\u001b[36m(model_pretraining pid=16175)\u001b[0m {'batch_size': 100, 'buffer_size': 1000000, 'learning_rate': 0.01}\n",
      "\u001b[36m(model_pretraining pid=16175)\u001b[0m Using cpu device\n",
      "\u001b[36m(model_pretraining pid=16175)\u001b[0m Logging to results/td3\n"
     ]
    }
   ],
   "source": [
    "dict_ = {\n",
    "    'if_using_a2c' : True,\n",
    "    'if_using_ddpg' : True,\n",
    "    'if_using_sac' : True,\n",
    "    'if_using_td3' : True,\n",
    "} \n",
    "dt_anal.model_save(dict_)"
   ]
  }
 ],
 "metadata": {
  "kernelspec": {
   "display_name": "Python 3 (ipykernel)",
   "language": "python",
   "name": "python3"
  },
  "language_info": {
   "codemirror_mode": {
    "name": "ipython",
    "version": 3
   },
   "file_extension": ".py",
   "mimetype": "text/x-python",
   "name": "python",
   "nbconvert_exporter": "python",
   "pygments_lexer": "ipython3",
   "version": "3.10.1"
  }
 },
 "nbformat": 4,
 "nbformat_minor": 5
}
